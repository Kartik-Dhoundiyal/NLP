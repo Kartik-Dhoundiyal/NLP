{
 "cells": [
  {
   "cell_type": "code",
   "execution_count": 71,
   "metadata": {},
   "outputs": [],
   "source": [
    "import re\n",
    "import nltk\n",
    "import gensim.models.word2vec as w2v\n",
    "import pandas as pd\n",
    "import glob\n",
    "import codecs\n",
    "import multiprocessing\n",
    "import os"
   ]
  },
  {
   "cell_type": "code",
   "execution_count": 72,
   "metadata": {},
   "outputs": [
    {
     "name": "stderr",
     "output_type": "stream",
     "text": [
      "[nltk_data] Downloading package punkt to /home/trigoros/nltk_data...\n",
      "[nltk_data]   Package punkt is already up-to-date!\n",
      "[nltk_data] Downloading package stopwords to\n",
      "[nltk_data]     /home/trigoros/nltk_data...\n",
      "[nltk_data]   Package stopwords is already up-to-date!\n"
     ]
    },
    {
     "data": {
      "text/plain": [
       "True"
      ]
     },
     "execution_count": 72,
     "metadata": {},
     "output_type": "execute_result"
    }
   ],
   "source": [
    "nltk.download(\"punkt\")\n",
    "nltk.download(\"stopwords\")"
   ]
  },
  {
   "cell_type": "code",
   "execution_count": 73,
   "metadata": {},
   "outputs": [
    {
     "name": "stdout",
     "output_type": "stream",
     "text": [
      "Found books:\n"
     ]
    },
    {
     "data": {
      "text/plain": [
       "['./data/HPBook1.txt',\n",
       " './data/HPBook2.txt',\n",
       " './data/HPBook3.txt',\n",
       " './data/HPBook4.txt',\n",
       " './data/HPBook5.txt',\n",
       " './data/HPBook6.txt',\n",
       " './data/HPBook7.txt']"
      ]
     },
     "execution_count": 73,
     "metadata": {},
     "output_type": "execute_result"
    }
   ],
   "source": [
    "book_filenames = sorted(glob.glob(\"./data/*.txt\"))\n",
    "print(\"Found books:\")\n",
    "book_filenames"
   ]
  },
  {
   "cell_type": "code",
   "execution_count": 74,
   "metadata": {},
   "outputs": [
    {
     "name": "stdout",
     "output_type": "stream",
     "text": [
      "Reading './data/HPBook1.txt'...\n",
      "Corpus is now 474429 characters long\n",
      "\n",
      "Reading './data/HPBook2.txt'...\n",
      "Corpus is now 1006137 characters long\n",
      "\n",
      "Reading './data/HPBook3.txt'...\n",
      "Corpus is now 1683115 characters long\n",
      "\n",
      "Reading './data/HPBook4.txt'...\n",
      "Corpus is now 2870365 characters long\n",
      "\n",
      "Reading './data/HPBook5.txt'...\n",
      "Corpus is now 4479128 characters long\n",
      "\n",
      "Reading './data/HPBook6.txt'...\n",
      "Corpus is now 5538150 characters long\n",
      "\n",
      "Reading './data/HPBook7.txt'...\n",
      "Corpus is now 6765174 characters long\n",
      "\n"
     ]
    }
   ],
   "source": [
    "corpus_raw = u\"\"\n",
    "for book_filename in book_filenames:\n",
    "    print(\"Reading '{0}'...\".format(book_filename))\n",
    "    with codecs.open(book_filename, \"r\", \"utf-8\") as book_file:\n",
    "        corpus_raw += book_file.read()\n",
    "    print(\"Corpus is now {0} characters long\".format(len(corpus_raw)))\n",
    "    print()"
   ]
  },
  {
   "cell_type": "code",
   "execution_count": 75,
   "metadata": {},
   "outputs": [],
   "source": [
    "tokenizer = nltk.data.load('tokenizers/punkt/english.pickle')"
   ]
  },
  {
   "cell_type": "code",
   "execution_count": 76,
   "metadata": {},
   "outputs": [],
   "source": [
    "raw_sentences = tokenizer.tokenize(corpus_raw)"
   ]
  },
  {
   "cell_type": "code",
   "execution_count": 77,
   "metadata": {},
   "outputs": [],
   "source": [
    "#convert into a list of words\n",
    "#rtemove unnnecessary,, split into words, no hyphens\n",
    "#list of words\n",
    "def sentence_to_wordlist(raw):\n",
    "    clean = re.sub(\"[^a-zA-Z]\",\" \", raw)\n",
    "    words = clean.split()\n",
    "    return words"
   ]
  },
  {
   "cell_type": "code",
   "execution_count": 78,
   "metadata": {},
   "outputs": [],
   "source": [
    "#sentence where each word is tokenized\n",
    "sentences = []\n",
    "for raw_sentence in raw_sentences:\n",
    "    if len(raw_sentence) > 0:\n",
    "        sentences.append(sentence_to_wordlist(raw_sentence))"
   ]
  },
  {
   "cell_type": "code",
   "execution_count": 79,
   "metadata": {},
   "outputs": [
    {
     "name": "stdout",
     "output_type": "stream",
     "text": [
      "The Dursley s had a small son \n",
      "called Dudley and in their opinion there was no finer \n",
      "boy anywhere.\n",
      "['The', 'Dursley', 's', 'had', 'a', 'small', 'son', 'called', 'Dudley', 'and', 'in', 'their', 'opinion', 'there', 'was', 'no', 'finer', 'boy', 'anywhere']\n"
     ]
    }
   ],
   "source": [
    "print(raw_sentences[5])\n",
    "print(sentence_to_wordlist(raw_sentences[5]))"
   ]
  },
  {
   "cell_type": "code",
   "execution_count": 80,
   "metadata": {},
   "outputs": [
    {
     "name": "stdout",
     "output_type": "stream",
     "text": [
      "The book corpus contains 1,174,677 tokens\n"
     ]
    }
   ],
   "source": [
    "token_count = sum([len(sentence) for sentence in sentences])\n",
    "print(\"The book corpus contains {0:,} tokens\".format(token_count))"
   ]
  },
  {
   "attachments": {},
   "cell_type": "markdown",
   "metadata": {},
   "source": [
    "Building Vocab and Training Model\n"
   ]
  },
  {
   "cell_type": "code",
   "execution_count": 81,
   "metadata": {},
   "outputs": [],
   "source": [
    "num_features = 300\n",
    "min_word_count = 3\n",
    "num_workers = multiprocessing.cpu_count()\n",
    "context_size = 7\n",
    "downsampling = 1e-3\n",
    "seed = 1"
   ]
  },
  {
   "cell_type": "code",
   "execution_count": 82,
   "metadata": {},
   "outputs": [],
   "source": [
    "hp2vec = w2v.Word2Vec(\n",
    "    sg=1,\n",
    "    seed=seed,\n",
    "    workers=num_workers,\n",
    "    vector_size=num_features,\n",
    "    min_count=min_word_count,\n",
    "    window=context_size,\n",
    "    sample=downsampling\n",
    ")"
   ]
  },
  {
   "cell_type": "code",
   "execution_count": 83,
   "metadata": {},
   "outputs": [],
   "source": [
    "hp2vec.build_vocab(sentences)"
   ]
  },
  {
   "cell_type": "code",
   "execution_count": 84,
   "metadata": {},
   "outputs": [
    {
     "name": "stdout",
     "output_type": "stream",
     "text": [
      "Word2Vec vocabulary length: 13105\n"
     ]
    }
   ],
   "source": [
    "vocab_len = len(hp2vec.wv)\n",
    "print(\"Word2Vec vocabulary length:\", vocab_len)"
   ]
  },
  {
   "cell_type": "code",
   "execution_count": 85,
   "metadata": {},
   "outputs": [
    {
     "data": {
      "text/plain": [
       "(4426164, 5873385)"
      ]
     },
     "execution_count": 85,
     "metadata": {},
     "output_type": "execute_result"
    }
   ],
   "source": [
    "hp2vec.train(sentences,total_examples=hp2vec.corpus_count, epochs=5)"
   ]
  },
  {
   "attachments": {},
   "cell_type": "markdown",
   "metadata": {},
   "source": [
    "Save trained model\n"
   ]
  },
  {
   "cell_type": "code",
   "execution_count": 86,
   "metadata": {},
   "outputs": [],
   "source": [
    "if not os.path.exists(\"trained\"):\n",
    "    os.makedirs(\"trained\")"
   ]
  },
  {
   "cell_type": "code",
   "execution_count": 87,
   "metadata": {},
   "outputs": [],
   "source": [
    "hp2vec.save(os.path.join(\"trained\", \"hp2vec.w2v\"))"
   ]
  },
  {
   "attachments": {},
   "cell_type": "markdown",
   "metadata": {},
   "source": [
    "Load trained model\n"
   ]
  },
  {
   "cell_type": "code",
   "execution_count": 88,
   "metadata": {},
   "outputs": [],
   "source": [
    "hp2vec = w2v.Word2Vec.load(os.path.join(\"trained\", \"hp2vec.w2v\"))"
   ]
  },
  {
   "attachments": {},
   "cell_type": "markdown",
   "metadata": {},
   "source": [
    "Test the model\n"
   ]
  },
  {
   "cell_type": "code",
   "execution_count": 89,
   "metadata": {},
   "outputs": [
    {
     "data": {
      "text/plain": [
       "[('shutting', 0.8840312957763672),\n",
       " ('squeal', 0.86234050989151),\n",
       " ('creak', 0.8495935797691345),\n",
       " ('moan', 0.8477634191513062),\n",
       " ('stall', 0.8454773426055908),\n",
       " ('sob', 0.8436517119407654),\n",
       " ('yell', 0.8382592797279358),\n",
       " ('pop', 0.8347529768943787),\n",
       " ('tinkle', 0.8344127535820007),\n",
       " ('swing', 0.834400475025177)]"
      ]
     },
     "execution_count": 89,
     "metadata": {},
     "output_type": "execute_result"
    }
   ],
   "source": [
    "hp2vec.wv.most_similar(\"snap\")"
   ]
  },
  {
   "cell_type": "code",
   "execution_count": 90,
   "metadata": {},
   "outputs": [
    {
     "data": {
      "text/plain": [
       "[('witch', 0.7098701000213623),\n",
       " ('man', 0.6763317584991455),\n",
       " ('thief', 0.6224886178970337),\n",
       " ('Marvolo', 0.5958719849586487),\n",
       " ('clever', 0.5892096757888794),\n",
       " ('Tri', 0.582741916179657),\n",
       " ('wandmaker', 0.5817017555236816),\n",
       " ('century', 0.5784750580787659),\n",
       " ('boy', 0.5772622227668762),\n",
       " ('adult', 0.5766698718070984)]"
      ]
     },
     "execution_count": 90,
     "metadata": {},
     "output_type": "execute_result"
    }
   ],
   "source": [
    "hp2vec.wv.most_similar(\"wizard\")"
   ]
  },
  {
   "cell_type": "code",
   "execution_count": 91,
   "metadata": {},
   "outputs": [
    {
     "data": {
      "text/plain": [
       "[('Tomorrow', 0.6662760376930237),\n",
       " ('Finally', 0.6638698577880859),\n",
       " ('Fascinating', 0.6610673666000366),\n",
       " ('Mine', 0.6609613299369812),\n",
       " ('Tm', 0.6536983847618103),\n",
       " ('LOVEGOOD', 0.6529023051261902),\n",
       " ('Back', 0.6526535153388977),\n",
       " ('Without', 0.6476196646690369),\n",
       " ('unprecedented', 0.646226167678833),\n",
       " ('Show', 0.6454821825027466)]"
      ]
     },
     "execution_count": 91,
     "metadata": {},
     "output_type": "execute_result"
    }
   ],
   "source": [
    "hp2vec.wv.most_similar(\"Harry\")"
   ]
  },
  {
   "cell_type": "code",
   "execution_count": 92,
   "metadata": {},
   "outputs": [
    {
     "data": {
      "text/plain": [
       "[('Goblet', 0.7659329175949097),\n",
       " ('Prisoner', 0.7628973126411438),\n",
       " ('Order', 0.7598740458488464),\n",
       " ('Blood', 0.7514839768409729),\n",
       " ('Philosophers', 0.7509821057319641),\n",
       " ('Hallows', 0.7474702596664429),\n",
       " ('Chamber', 0.7467625737190247),\n",
       " ('Fire', 0.7454984188079834),\n",
       " ('Deathly', 0.7417952418327332),\n",
       " ('Half', 0.7298355102539062)]"
      ]
     },
     "execution_count": 92,
     "metadata": {},
     "output_type": "execute_result"
    }
   ],
   "source": [
    "hp2vec.wv.most_similar(\"Potter\")"
   ]
  },
  {
   "cell_type": "code",
   "execution_count": 93,
   "metadata": {},
   "outputs": [
    {
     "data": {
      "text/plain": [
       "[('Lavender', 0.5959439277648926),\n",
       " ('Ginny', 0.595808207988739),\n",
       " ('Luna', 0.5891612768173218),\n",
       " ('Parvati', 0.5884323716163635),\n",
       " ('miserably', 0.5865969061851501),\n",
       " ('incredulously', 0.5780034065246582),\n",
       " ('amazed', 0.576050877571106),\n",
       " ('excitedly', 0.5711442232131958),\n",
       " ('fearfully', 0.5678232312202454),\n",
       " ('Romilda', 0.566021740436554)]"
      ]
     },
     "execution_count": 93,
     "metadata": {},
     "output_type": "execute_result"
    }
   ],
   "source": [
    "hp2vec.wv.most_similar(\"Hermione\")"
   ]
  },
  {
   "cell_type": "code",
   "execution_count": 94,
   "metadata": {},
   "outputs": [
    {
     "data": {
      "text/plain": [
       "[('Wormtail', 0.7454556226730347),\n",
       " ('Lord', 0.7206600904464722),\n",
       " ('power', 0.6617326736450195),\n",
       " ('Sorcerer', 0.6585953831672668),\n",
       " ('Gregorovitch', 0.657398521900177),\n",
       " ('prophecy', 0.656592845916748),\n",
       " ('Frank', 0.6487449407577515),\n",
       " ('Wand', 0.6456465125083923),\n",
       " ('Elder', 0.6451976299285889),\n",
       " ('Bellatrix', 0.6445302367210388)]"
      ]
     },
     "execution_count": 94,
     "metadata": {},
     "output_type": "execute_result"
    }
   ],
   "source": [
    "hp2vec.wv.most_similar(\"Voldemort\")"
   ]
  },
  {
   "cell_type": "code",
   "execution_count": 95,
   "metadata": {},
   "outputs": [
    {
     "data": {
      "text/plain": [
       "[('Slughorn', 0.6427043676376343),\n",
       " ('Karkaroff', 0.6423910856246948),\n",
       " ('Lupin', 0.6403194665908813),\n",
       " ('Riddle', 0.6343071460723877),\n",
       " ('Quirrell', 0.622565746307373),\n",
       " ('headmaster', 0.6222773790359497),\n",
       " ('Fudge', 0.6083312034606934),\n",
       " ('Dippet', 0.5851658582687378),\n",
       " ('Scrimgeour', 0.5850939750671387),\n",
       " ('Aberforth', 0.5848838090896606)]"
      ]
     },
     "execution_count": 95,
     "metadata": {},
     "output_type": "execute_result"
    }
   ],
   "source": [
    "hp2vec.wv.most_similar('Dumbledore')"
   ]
  },
  {
   "cell_type": "code",
   "execution_count": 96,
   "metadata": {},
   "outputs": [
    {
     "data": {
      "text/plain": [
       "[('Lily', 0.807587742805481),\n",
       " ('Peter', 0.7490341663360596),\n",
       " ('father', 0.7172917723655701),\n",
       " ('godfather', 0.7094799876213074),\n",
       " ('Aberforth', 0.7002931237220764),\n",
       " ('Morfin', 0.6974421143531799),\n",
       " ('hex', 0.6970621943473816),\n",
       " ('Regulus', 0.6930758357048035),\n",
       " ('Pettigrew', 0.6915147304534912),\n",
       " ('dad', 0.6820852756500244)]"
      ]
     },
     "execution_count": 96,
     "metadata": {},
     "output_type": "execute_result"
    }
   ],
   "source": [
    "hp2vec.wv.most_similar('James')"
   ]
  },
  {
   "cell_type": "code",
   "execution_count": 97,
   "metadata": {},
   "outputs": [
    {
     "data": {
      "text/plain": [
       "0.7488101"
      ]
     },
     "execution_count": 97,
     "metadata": {},
     "output_type": "execute_result"
    }
   ],
   "source": [
    "hp2vec.wv.similarity('Gryffindor','Ravenclaw')"
   ]
  },
  {
   "cell_type": "code",
   "execution_count": 98,
   "metadata": {},
   "outputs": [
    {
     "data": {
      "text/plain": [
       "0.8418069"
      ]
     },
     "execution_count": 98,
     "metadata": {},
     "output_type": "execute_result"
    }
   ],
   "source": [
    "hp2vec.wv.similarity('Ravenclaw','Hufflepuff')"
   ]
  },
  {
   "cell_type": "code",
   "execution_count": 99,
   "metadata": {},
   "outputs": [
    {
     "data": {
      "text/plain": [
       "0.76888597"
      ]
     },
     "execution_count": 99,
     "metadata": {},
     "output_type": "execute_result"
    }
   ],
   "source": [
    "hp2vec.wv.similarity('Gryffindor','Slytherin')"
   ]
  },
  {
   "cell_type": "code",
   "execution_count": 100,
   "metadata": {},
   "outputs": [
    {
     "data": {
      "text/plain": [
       "0.43279967"
      ]
     },
     "execution_count": 100,
     "metadata": {},
     "output_type": "execute_result"
    }
   ],
   "source": [
    "hp2vec.wv.similarity('Harry','Hermione')"
   ]
  },
  {
   "cell_type": "code",
   "execution_count": 101,
   "metadata": {},
   "outputs": [
    {
     "data": {
      "text/plain": [
       "0.47812068"
      ]
     },
     "execution_count": 101,
     "metadata": {},
     "output_type": "execute_result"
    }
   ],
   "source": [
    "hp2vec.wv.similarity('Harry','Ron')"
   ]
  },
  {
   "cell_type": "code",
   "execution_count": 102,
   "metadata": {},
   "outputs": [
    {
     "data": {
      "text/plain": [
       "0.4428412"
      ]
     },
     "execution_count": 102,
     "metadata": {},
     "output_type": "execute_result"
    }
   ],
   "source": [
    "hp2vec.wv.similarity('Harry','Ginny')"
   ]
  },
  {
   "cell_type": "code",
   "execution_count": 103,
   "metadata": {},
   "outputs": [
    {
     "data": {
      "text/plain": [
       "0.45599478"
      ]
     },
     "execution_count": 103,
     "metadata": {},
     "output_type": "execute_result"
    }
   ],
   "source": [
    "hp2vec.wv.similarity('Harry','Draco')"
   ]
  },
  {
   "cell_type": "code",
   "execution_count": 104,
   "metadata": {},
   "outputs": [
    {
     "data": {
      "text/plain": [
       "array([-0.04349536,  0.17675944, -0.00191631, -0.00189263, -0.04998869,\n",
       "       -0.02312861,  0.12973048,  0.2328556 ,  0.04606979, -0.03963939,\n",
       "       -0.03859284, -0.08789378,  0.03335472, -0.09642242, -0.07743017,\n",
       "       -0.04697024, -0.00562109, -0.00777015,  0.00543146, -0.00374775,\n",
       "       -0.01104846,  0.01855687,  0.06936868, -0.00309733,  0.04061465,\n",
       "       -0.08505926, -0.04342438, -0.02491045, -0.04676975, -0.10168947,\n",
       "       -0.0061103 ,  0.03896707, -0.00371508, -0.07508431,  0.02300765,\n",
       "        0.08184256,  0.10690916, -0.0121919 , -0.05799888, -0.03149782,\n",
       "       -0.08977556,  0.04436041,  0.05323583, -0.01539325,  0.03791279,\n",
       "        0.05417796,  0.06638142,  0.0696206 , -0.01274208,  0.06091055,\n",
       "       -0.00572199, -0.04293516, -0.05032465,  0.00269276, -0.04941019,\n",
       "        0.0567391 , -0.02937475, -0.05634034,  0.04263777, -0.02708771,\n",
       "       -0.0372689 ,  0.0063677 , -0.06550132,  0.00414233,  0.0337784 ,\n",
       "       -0.10559937, -0.01871193,  0.00646665, -0.11498868,  0.09682751,\n",
       "       -0.039531  ,  0.06964042,  0.00934648, -0.1162895 , -0.02295034,\n",
       "       -0.00640908, -0.05361756,  0.04030785, -0.05796359,  0.15907872,\n",
       "       -0.07104529, -0.04831604,  0.11344228,  0.21341832, -0.02900891,\n",
       "        0.03596823, -0.11361474,  0.0152236 ,  0.04604668,  0.14564961,\n",
       "        0.03525908, -0.05182721,  0.01993509, -0.02440635,  0.06026984,\n",
       "        0.01581645,  0.08535168,  0.07354835, -0.16118492,  0.02324182,\n",
       "        0.00824325, -0.01451774,  0.03473306,  0.10270858,  0.05875207,\n",
       "       -0.0019938 , -0.0708774 ,  0.07769285, -0.10314558,  0.01892123,\n",
       "       -0.10990912, -0.16821831, -0.00880293,  0.06416065, -0.02888051,\n",
       "        0.11577919,  0.00881138, -0.10137459,  0.10987309, -0.11941037,\n",
       "        0.05575679,  0.07504013,  0.07095055, -0.0359396 ,  0.01821278,\n",
       "        0.0448191 , -0.04720389, -0.05511866,  0.02446003, -0.00046448,\n",
       "        0.01172113,  0.14125238, -0.0488172 , -0.13529807,  0.06862188,\n",
       "        0.12272421,  0.01451166, -0.0985836 , -0.0877618 , -0.08476006,\n",
       "        0.04208274, -0.16573867,  0.02000333, -0.00851333,  0.09167916,\n",
       "       -0.02498347, -0.04949459, -0.05247157,  0.05639169, -0.12078851,\n",
       "       -0.00409318, -0.22455813, -0.06492658,  0.04113626,  0.00851785,\n",
       "        0.02479258, -0.06663698, -0.02149758, -0.00543368,  0.10174075,\n",
       "        0.02484855,  0.09926525, -0.17125069,  0.04320616,  0.06817003,\n",
       "        0.08235107,  0.00226872, -0.00756391,  0.04989807,  0.11070074,\n",
       "       -0.0562441 ,  0.06651144,  0.06841578,  0.13304493, -0.02992672,\n",
       "       -0.01912036,  0.00181937, -0.05295591,  0.00094005, -0.04018299,\n",
       "       -0.01823723,  0.08506256, -0.08887841, -0.05475406, -0.02923535,\n",
       "        0.07767007,  0.01616785, -0.02046563,  0.03159069, -0.06483892,\n",
       "        0.09268015,  0.03936239, -0.05669831,  0.02581718,  0.07850812,\n",
       "       -0.05453785, -0.05143957, -0.13147548,  0.09494487,  0.02325634,\n",
       "       -0.06052785, -0.02412832,  0.04264151, -0.03861006,  0.0241897 ,\n",
       "        0.03961383,  0.03417177, -0.03441722, -0.01636237,  0.06311447,\n",
       "        0.03680185, -0.03296692, -0.05135517, -0.02593473,  0.08745769,\n",
       "       -0.00626518, -0.08854172, -0.16857678, -0.13444214, -0.02957905,\n",
       "        0.01426124, -0.0268356 , -0.07697515, -0.03159105, -0.11267321,\n",
       "       -0.06633658, -0.0306252 ,  0.02981   , -0.12890553,  0.08917712,\n",
       "        0.01408069, -0.07151169, -0.14575754,  0.06996107,  0.02569544,\n",
       "       -0.00877875, -0.09435391,  0.01437152, -0.02997102, -0.12503406,\n",
       "        0.06020585,  0.03840011, -0.10943996,  0.08340909, -0.00287211,\n",
       "       -0.11162408, -0.01028605,  0.03256723, -0.10896273,  0.11612681,\n",
       "        0.08233865, -0.00534472,  0.0818691 , -0.01667254, -0.04391411,\n",
       "       -0.05191755,  0.198906  ,  0.16064747, -0.11076418, -0.05765308,\n",
       "        0.02076152,  0.08600131,  0.02048774, -0.02538836, -0.08863477,\n",
       "       -0.07510805,  0.06095686, -0.10177208, -0.0233354 , -0.05656337,\n",
       "        0.02788975,  0.06691111, -0.01082391, -0.0301549 ,  0.10537602,\n",
       "       -0.03109637,  0.07374373,  0.05893129,  0.01462099,  0.01249306,\n",
       "       -0.02584975, -0.00529833,  0.05796687,  0.0670401 ,  0.0270116 ,\n",
       "        0.0663852 , -0.10866424,  0.07357766, -0.00196556,  0.06679624,\n",
       "       -0.04568261,  0.01093554,  0.08497661, -0.03458191,  0.08673035,\n",
       "        0.1548495 , -0.06890834, -0.04699625,  0.04406302, -0.01858554],\n",
       "      dtype=float32)"
      ]
     },
     "execution_count": 104,
     "metadata": {},
     "output_type": "execute_result"
    }
   ],
   "source": [
    "hp2vec.wv.get_vector('system')"
   ]
  },
  {
   "cell_type": "code",
   "execution_count": 105,
   "metadata": {},
   "outputs": [
    {
     "data": {
      "text/plain": [
       "array([-0.08045113,  0.06063795, -0.00505731,  0.0371425 , -0.12732024,\n",
       "        0.0708539 ,  0.04922074,  0.554285  ,  0.12218071, -0.01879714,\n",
       "       -0.08789112, -0.06460731,  0.16549183, -0.12124288, -0.20773135,\n",
       "       -0.05454928, -0.01517518,  0.16176088,  0.19269353, -0.05061263,\n",
       "        0.1664173 ,  0.03067138,  0.1293357 , -0.04480602,  0.07088   ,\n",
       "        0.06115659,  0.07420342,  0.09343738,  0.00056983, -0.105098  ,\n",
       "        0.00916057, -0.02035011, -0.07311337,  0.03089395,  0.16654505,\n",
       "        0.05730806,  0.16355793,  0.0603353 , -0.08437596,  0.07044517,\n",
       "        0.00895525,  0.02151919,  0.00616799,  0.0359314 , -0.0920094 ,\n",
       "        0.01261032,  0.1539332 ,  0.04732376,  0.09538186,  0.11063606,\n",
       "       -0.04109185, -0.07032701,  0.06811712,  0.14533184, -0.05797526,\n",
       "        0.20171033, -0.07405247, -0.11806196,  0.04018091, -0.10428611,\n",
       "       -0.01041579, -0.0551133 ,  0.00644415,  0.05261223, -0.03813637,\n",
       "       -0.09882693,  0.02096165,  0.06387884,  0.00135209,  0.17244793,\n",
       "       -0.02925745,  0.09168549,  0.07509328, -0.18001978,  0.01800703,\n",
       "       -0.01359248,  0.02580839, -0.04901377, -0.06099128,  0.26833147,\n",
       "       -0.1228954 , -0.19511597,  0.032143  ,  0.11572434, -0.05614879,\n",
       "       -0.00986507, -0.2335179 , -0.07412861,  0.01629562,  0.08491115,\n",
       "        0.10726504, -0.13479953,  0.14821841, -0.10714416, -0.00281562,\n",
       "        0.00746475, -0.00752845, -0.0283318 , -0.00727772, -0.15071864,\n",
       "        0.06590849, -0.136357  ,  0.10522728,  0.2000204 , -0.15578245,\n",
       "       -0.18990724, -0.08203942, -0.03269304, -0.17725785, -0.08782453,\n",
       "        0.01764881, -0.15965655, -0.07523539, -0.05664928, -0.04205625,\n",
       "        0.06503505,  0.05745139, -0.00449565,  0.20150323, -0.18309972,\n",
       "       -0.14151074,  0.16162029,  0.10607281, -0.15264575, -0.00159711,\n",
       "        0.00551987, -0.14879692, -0.1382444 ,  0.05953465, -0.02204554,\n",
       "       -0.05787123,  0.15589258,  0.07463159, -0.1333865 ,  0.05874541,\n",
       "        0.16681415,  0.10658949, -0.07060959, -0.13129276,  0.10833588,\n",
       "        0.02908026, -0.19745938, -0.10180093, -0.06656577,  0.22576566,\n",
       "       -0.08851384,  0.0398092 , -0.12592609,  0.16035104, -0.08955517,\n",
       "       -0.12531628, -0.26036733, -0.06629597,  0.08047277, -0.06601577,\n",
       "        0.07977784, -0.14453255,  0.07589156, -0.20950773,  0.11614984,\n",
       "        0.0314568 ,  0.12051531, -0.15055877, -0.05326555,  0.16591144,\n",
       "        0.00135617, -0.05237323, -0.13793717,  0.05191821,  0.18686222,\n",
       "       -0.10970802,  0.2603926 ,  0.02388615,  0.08719505,  0.03829161,\n",
       "       -0.10608801, -0.12737416, -0.12424887,  0.00678739, -0.10165652,\n",
       "       -0.04417258,  0.11915091, -0.27404365,  0.05596268, -0.12244318,\n",
       "        0.17913923,  0.08331905, -0.13244331,  0.04939393, -0.02150115,\n",
       "        0.27806318,  0.05183615,  0.00331502, -0.00489806,  0.0472311 ,\n",
       "       -0.15792614, -0.25056195, -0.08474958, -0.00904266,  0.05774393,\n",
       "        0.05014605,  0.00622624,  0.06009577, -0.10933302,  0.21733154,\n",
       "        0.03707488,  0.06707803, -0.1594027 ,  0.03305328,  0.00533352,\n",
       "        0.12601507, -0.14920089,  0.06676707, -0.21900558,  0.17951028,\n",
       "        0.0625037 , -0.18907167, -0.21607827, -0.02996957,  0.14809527,\n",
       "        0.03714943, -0.10493597, -0.00526783,  0.12607895, -0.07629978,\n",
       "       -0.1204941 , -0.11493414, -0.11045718, -0.09922028,  0.0162129 ,\n",
       "       -0.14298116,  0.02286789, -0.09972313, -0.01836645, -0.09407463,\n",
       "        0.06490951, -0.19411352, -0.01169351, -0.14283691,  0.11262351,\n",
       "        0.15897009,  0.04254258, -0.05182279,  0.12421189,  0.05548526,\n",
       "       -0.07628527,  0.02140071, -0.1373249 , -0.2755252 ,  0.26928034,\n",
       "        0.12196291, -0.07265993,  0.20431149, -0.23305131, -0.09943163,\n",
       "       -0.17003149,  0.25006092,  0.3375381 , -0.43556657, -0.05290702,\n",
       "        0.13257733,  0.01386915,  0.10386483, -0.05903374, -0.14007775,\n",
       "       -0.02869695,  0.11437166, -0.01543897, -0.08916048, -0.00386931,\n",
       "        0.15632512,  0.19616805,  0.18038471, -0.08378085,  0.2796865 ,\n",
       "       -0.17141815,  0.2855887 ,  0.1012562 , -0.02722921, -0.02895752,\n",
       "        0.06814584,  0.01694681,  0.07680486,  0.09381739,  0.06535622,\n",
       "        0.11501154, -0.20894727, -0.01033865,  0.07005942,  0.01289569,\n",
       "       -0.08023025, -0.00887311, -0.00789801,  0.13169149,  0.1706799 ,\n",
       "        0.30160555, -0.0351684 , -0.19465981, -0.2052034 ,  0.10697131],\n",
       "      dtype=float32)"
      ]
     },
     "execution_count": 105,
     "metadata": {},
     "output_type": "execute_result"
    }
   ],
   "source": [
    "hp2vec.wv.get_vector('human')"
   ]
  },
  {
   "cell_type": "code",
   "execution_count": 106,
   "metadata": {},
   "outputs": [
    {
     "data": {
      "text/plain": [
       "array([[-0.10706326,  0.14897585,  0.07541998, ...,  0.08790331,\n",
       "        -0.0688742 , -0.16693042],\n",
       "       [ 0.13155799,  0.14000912, -0.0445254 , ...,  0.15634803,\n",
       "        -0.162596  ,  0.01006121],\n",
       "       [-0.14200254,  0.23447265, -0.04040307, ...,  0.2687296 ,\n",
       "         0.11906455, -0.01007703],\n",
       "       ...,\n",
       "       [-0.04056953,  0.13463387,  0.00691438, ..., -0.0479149 ,\n",
       "         0.04231695, -0.00899411],\n",
       "       [-0.03606883,  0.10840391,  0.01783056, ..., -0.03091026,\n",
       "         0.04272952,  0.01369259],\n",
       "       [-0.05501752,  0.09110323,  0.02968378, ..., -0.03472082,\n",
       "         0.02711793,  0.03779325]], dtype=float32)"
      ]
     },
     "execution_count": 106,
     "metadata": {},
     "output_type": "execute_result"
    }
   ],
   "source": [
    "hp2vec.wv.vectors"
   ]
  },
  {
   "cell_type": "code",
   "execution_count": null,
   "metadata": {},
   "outputs": [],
   "source": [
    "hp2vec.save('word2vec.model')"
   ]
  }
 ],
 "metadata": {
  "kernelspec": {
   "display_name": "Python 3 (ipykernel)",
   "language": "python",
   "name": "python3"
  },
  "language_info": {
   "codemirror_mode": {
    "name": "ipython",
    "version": 3
   },
   "file_extension": ".py",
   "mimetype": "text/x-python",
   "name": "python",
   "nbconvert_exporter": "python",
   "pygments_lexer": "ipython3",
   "version": "3.10.6"
  },
  "vscode": {
   "interpreter": {
    "hash": "916dbcbb3f70747c44a77c7bcd40155683ae19c65e1c03b4aa3499c5328201f1"
   }
  }
 },
 "nbformat": 4,
 "nbformat_minor": 2
}
